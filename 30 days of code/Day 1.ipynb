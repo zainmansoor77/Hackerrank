{
 "cells": [
  {
   "cell_type": "code",
   "execution_count": null,
   "metadata": {},
   "outputs": [],
   "source": [
    "i = 4\n",
    "d = 4.0\n",
    "s = 'HackerRank '\n",
    "\n",
    "import sys\n",
    "\n",
    "# Declare second integer, double, and String variables.\n",
    "\n",
    "# Read and save an integer, double, and String to your variables.\n",
    "a = sys.stdin.readline()\n",
    "b = sys.stdin.readline()\n",
    "c = sys.stdin.readline()\n",
    "# Print the sum of both integer variables on a new line.\n",
    "print(a + i)\n",
    "# Print the sum of the double variables on a new line.\n",
    "print(b + d)\n",
    "# Concatenate and print the String variables on a new line\n",
    "# The 's' variable above should be printed first.\n",
    "print(s,\"\"+ c)"
   ]
  },
  {
   "cell_type": "code",
   "execution_count": 4,
   "metadata": {},
   "outputs": [
    {
     "name": "stdout",
     "output_type": "stream",
     "text": [
      "jk nihari\n"
     ]
    }
   ],
   "source": [
    "a = \"jk\"\n",
    "b = \"nihari\"\n",
    "print(a,\"\"+b)"
   ]
  },
  {
   "cell_type": "code",
   "execution_count": null,
   "metadata": {},
   "outputs": [],
   "source": []
  }
 ],
 "metadata": {
  "kernelspec": {
   "display_name": "Python 3",
   "language": "python",
   "name": "python3"
  },
  "language_info": {
   "codemirror_mode": {
    "name": "ipython",
    "version": 3
   },
   "file_extension": ".py",
   "mimetype": "text/x-python",
   "name": "python",
   "nbconvert_exporter": "python",
   "pygments_lexer": "ipython3",
   "version": "3.7.5"
  }
 },
 "nbformat": 4,
 "nbformat_minor": 2
}
