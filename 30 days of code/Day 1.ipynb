{
 "cells": [
  {
   "cell_type": "code",
   "execution_count": 8,
   "metadata": {},
   "outputs": [
    {
     "name": "stdout",
     "output_type": "stream",
     "text": [
      "16\n",
      "8.0\n",
      "HackerRank is the best place to learn and practice coding!\n"
     ]
    }
   ],
   "source": [
    "i = 4\n",
    "d = 4.0\n",
    "s = 'HackerRank '\n",
    "\n",
    "import sys\n",
    "\n",
    "# Declare second integer, double, and String variables.\n",
    "a = int()\n",
    "b = float()\n",
    "c = str()\n",
    "\n",
    "# Read and save an integer, double, and String to your variables.\n",
    "'''a = sys.stdin.readline()\n",
    "b = sys.stdin.readline()\n",
    "c = sys.stdin.readline()'''\n",
    "a = 12\n",
    "b = 4.0\n",
    "c = \"is the best place to learn and practice coding!\"\n",
    "# Print the sum of both integer variables on a new line.\n",
    "print(a + i)\n",
    "# Print the sum of the double variables on a new line.\n",
    "print(b + d)\n",
    "# Concatenate and print the String variables on a new line\n",
    "# The 's' variable above should be printed first.\n",
    "print(s+ c)"
   ]
  },
  {
   "cell_type": "code",
   "execution_count": 4,
   "metadata": {},
   "outputs": [
    {
     "name": "stdout",
     "output_type": "stream",
     "text": [
      "jk nihari\n"
     ]
    }
   ],
   "source": [
    "a = \"jk\"\n",
    "b = \"nihari\"\n",
    "print(a,\"\"+b)"
   ]
  },
  {
   "cell_type": "code",
   "execution_count": 7,
   "metadata": {},
   "outputs": [],
   "source": [
    "d = int()"
   ]
  },
  {
   "cell_type": "code",
   "execution_count": null,
   "metadata": {},
   "outputs": [],
   "source": []
  }
 ],
 "metadata": {
  "kernelspec": {
   "display_name": "Python 3",
   "language": "python",
   "name": "python3"
  },
  "language_info": {
   "codemirror_mode": {
    "name": "ipython",
    "version": 3
   },
   "file_extension": ".py",
   "mimetype": "text/x-python",
   "name": "python",
   "nbconvert_exporter": "python",
   "pygments_lexer": "ipython3",
   "version": "3.7.5"
  }
 },
 "nbformat": 4,
 "nbformat_minor": 2
}
