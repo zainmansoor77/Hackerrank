{
 "cells": [
  {
   "cell_type": "code",
   "execution_count": 5,
   "metadata": {},
   "outputs": [
    {
     "name": "stdout",
     "output_type": "stream",
     "text": [
      "         #\n",
      "        ##\n",
      "       ###\n",
      "      ####\n",
      "     #####\n",
      "    ######\n",
      "   #######\n",
      "  ########\n",
      " #########\n",
      "##########\n"
     ]
    }
   ],
   "source": [
    "def staircase(n):\n",
    "    for i in range(n-1,-1,-1):\n",
    "        for j in range(i):\n",
    "            print(\" \",end = \"\")\n",
    "        for k in range(i,n):    \n",
    "            print(\"#\",end = \"\")\n",
    "        print(\"\")   \n",
    "staircase(10)"
   ]
  },
  {
   "cell_type": "code",
   "execution_count": null,
   "metadata": {},
   "outputs": [],
   "source": []
  }
 ],
 "metadata": {
  "kernelspec": {
   "display_name": "Python 3",
   "language": "python",
   "name": "python3"
  },
  "language_info": {
   "codemirror_mode": {
    "name": "ipython",
    "version": 3
   },
   "file_extension": ".py",
   "mimetype": "text/x-python",
   "name": "python",
   "nbconvert_exporter": "python",
   "pygments_lexer": "ipython3",
   "version": "3.7.5"
  }
 },
 "nbformat": 4,
 "nbformat_minor": 2
}
