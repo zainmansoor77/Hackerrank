{
 "cells": [
  {
   "cell_type": "code",
   "execution_count": 17,
   "metadata": {},
   "outputs": [
    {
     "name": "stdout",
     "output_type": "stream",
     "text": [
      "0.400000\n",
      "0.200000\n",
      "0.400000\n"
     ]
    }
   ],
   "source": [
    "def plusMinus(arr):\n",
    "    a = []\n",
    "    p = 0\n",
    "    n = 0\n",
    "    z = 0\n",
    "    s = 0\n",
    "    for i in range(len(arr)):\n",
    "        if arr[i] > 0:\n",
    "            p += 1\n",
    "        elif arr[i] < 0:\n",
    "            n += 1\n",
    "        else:\n",
    "            z += 1     \n",
    "    s = p + n + z\n",
    "    rp = p / s\n",
    "    rn = n / s    \n",
    "    rz = z / s \n",
    "    \n",
    "    a.append(rp)\n",
    "    a.append(rn)\n",
    "    a.append(rz) \n",
    "\n",
    "    for i in range(len(a)):\n",
    "        print(\"{:.6f}\".format(a[i]))\n",
    "        \n",
    "t = [0,0,-1,1,1]\n",
    "plusMinus(t)"
   ]
  },
  {
   "cell_type": "code",
   "execution_count": 9,
   "metadata": {},
   "outputs": [
    {
     "name": "stdout",
     "output_type": "stream",
     "text": [
      "10.65748\n"
     ]
    }
   ],
   "source": [
    "q =10.65748\n",
    "q = round(q,20)\n",
    "print(q)"
   ]
  },
  {
   "cell_type": "code",
   "execution_count": null,
   "metadata": {},
   "outputs": [],
   "source": []
  }
 ],
 "metadata": {
  "kernelspec": {
   "display_name": "Python 3",
   "language": "python",
   "name": "python3"
  },
  "language_info": {
   "codemirror_mode": {
    "name": "ipython",
    "version": 3
   },
   "file_extension": ".py",
   "mimetype": "text/x-python",
   "name": "python",
   "nbconvert_exporter": "python",
   "pygments_lexer": "ipython3",
   "version": "3.7.5"
  }
 },
 "nbformat": 4,
 "nbformat_minor": 2
}
