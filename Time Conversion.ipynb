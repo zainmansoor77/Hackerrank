{
 "cells": [
  {
   "cell_type": "code",
   "execution_count": 39,
   "metadata": {},
   "outputs": [
    {
     "name": "stdout",
     "output_type": "stream",
     "text": [
      "07:05:45\n"
     ]
    }
   ],
   "source": [
    "def timeConversion(s):\n",
    "    b = [s[:2],s[3:5],s[6:8],s[8:]]\n",
    "\n",
    "    if b[3] == \"AM\":\n",
    "        if b[0] == \"12\"  and b[1] == \"00\" and b[2] == \"00\":\n",
    "            d = [\"00\",\"00\",\"00\"]        \n",
    "        \n",
    "        else:\n",
    "            d = b[:-1]\n",
    "    else:   \n",
    "        d = [str(12+int(b[0])),b[1],b[2]]\n",
    "    delimiter = \":\"\n",
    "    d = delimiter.join(d)\n",
    "    return d  \n",
    "s = \"07:05:45AM\"\n",
    "result = timeConversion(s)\n",
    "print(result)"
   ]
  },
  {
   "cell_type": "code",
   "execution_count": 35,
   "metadata": {},
   "outputs": [
    {
     "name": "stdout",
     "output_type": "stream",
     "text": [
      "['07', '05', '45']\n"
     ]
    }
   ],
   "source": [
    "a = \"07:05:45AM\"\n",
    "b = [a[:2],a[3:5],a[6:8],a[8:]]\n",
    "\n",
    "if b[3] == \"AM\":\n",
    "    if b[0] == \"12\"  and b[1] == \"00\" and b[2] == \"00\":\n",
    "        d = [\"00\",\"00\",\"00\"]        \n",
    "        \n",
    "    else:\n",
    "        d = b[:-1]\n",
    "else:\n",
    "    d = [str(12+int(b[0])),b[1],b[2]]\n",
    "    \n",
    "    \n",
    "print(d)   "
   ]
  },
  {
   "cell_type": "code",
   "execution_count": 30,
   "metadata": {},
   "outputs": [
    {
     "name": "stdout",
     "output_type": "stream",
     "text": [
      "0123\n"
     ]
    }
   ],
   "source": [
    "a = \"0123\"\n",
    "b = int(a)\n",
    "c =\"{:04d}\".format(b)\n",
    "print(c)"
   ]
  }
 ],
 "metadata": {
  "kernelspec": {
   "display_name": "Python 3",
   "language": "python",
   "name": "python3"
  },
  "language_info": {
   "codemirror_mode": {
    "name": "ipython",
    "version": 3
   },
   "file_extension": ".py",
   "mimetype": "text/x-python",
   "name": "python",
   "nbconvert_exporter": "python",
   "pygments_lexer": "ipython3",
   "version": "3.7.5"
  }
 },
 "nbformat": 4,
 "nbformat_minor": 2
}
