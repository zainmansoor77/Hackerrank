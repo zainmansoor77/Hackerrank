{
 "cells": [
  {
   "cell_type": "code",
   "execution_count": 62,
   "metadata": {},
   "outputs": [
    {
     "name": "stdout",
     "output_type": "stream",
     "text": [
      "10 50\n",
      "21\n"
     ]
    }
   ],
   "source": [
    "from itertools import combinations\n",
    "\n",
    "count = 0\n",
    "a = input()\n",
    "#a = \"10 50\"\n",
    "a = a.split()\n",
    "\n",
    "b = [i**i for i in range(1,int(a[0])+1)]    \n",
    "\n",
    "for i in range(1,len(b)+1):\n",
    "    c = combinations(b,i)\n",
    "    \n",
    "    for j in list(c):\n",
    "        d = sum(j)\n",
    "        #print(j)\n",
    "        \n",
    "        if d%int(a[1]) == 0:\n",
    "            count += 1\n",
    "    #print()    \n",
    "    \n",
    "print(count)        "
   ]
  },
  {
   "cell_type": "code",
   "execution_count": 35,
   "metadata": {},
   "outputs": [
    {
     "name": "stdout",
     "output_type": "stream",
     "text": [
      "1\n"
     ]
    },
    {
     "data": {
      "text/plain": [
       "'for i in range(len(c)):\\n    if sum(c[i])% int(a[1]) == 0:\\n        count+= 1\\nprint(count)'"
      ]
     },
     "execution_count": 35,
     "metadata": {},
     "output_type": "execute_result"
    }
   ],
   "source": [
    "import copy\n",
    "a = [\"10\", \"50\"]\n",
    "\n",
    "b = []\n",
    "for i in range(1,int(a[0])+1):\n",
    "    b.append(i**i)\n",
    "\n",
    "def combinations(target,data):\n",
    "     count = 0\n",
    "     for i in range(len(data)):\n",
    "         new_target = copy.copy(target)\n",
    "         new_data = copy.copy(data)\n",
    "         new_target.append(data[i])\n",
    "         new_data = data[i+1:]\n",
    "         #print (new_target)\n",
    "         combinations(new_target,new_data)\n",
    "         if sum(new_target) % int(a[1]) == 0:\n",
    "            count+=1\n",
    "     return count       \n",
    "            \n",
    "            \n",
    "\n",
    "\n",
    "count = 0\n",
    "t = []\n",
    "c = combinations(t,b)\n",
    "print(c)\n",
    "\n",
    "\n",
    "'''for i in range(len(c)):\n",
    "    if sum(c[i])% int(a[1]) == 0:\n",
    "        count+= 1\n",
    "print(count)'''        \n",
    "    "
   ]
  },
  {
   "cell_type": "code",
   "execution_count": 71,
   "metadata": {},
   "outputs": [
    {
     "name": "stdout",
     "output_type": "stream",
     "text": [
      "0\n"
     ]
    }
   ],
   "source": [
    "import sys\n",
    "from itertools import combinations\n",
    "\n",
    "count = 0\n",
    "a = \"10 50\"\n",
    "a = a.split()\n",
    "\n",
    "b = [i**i for i in range(1,int(a[0])+1)]\n",
    "#print(b)\n",
    "\n",
    "c = list([(combinations(b,j)) for j in range(1,len(b)+1)])\n",
    "\n",
    "\n",
    "for k in list(c):\n",
    "    #print(k)\n",
    "    sum = 0\n",
    "    for l in k:\n",
    "        for m in l:\n",
    "            d += int(m)\n",
    "    if d%int(a[1]) == 0:\n",
    "        count += 1\n",
    "    \n",
    "print(count)  \n"
   ]
  }
 ],
 "metadata": {
  "kernelspec": {
   "display_name": "Python 3",
   "language": "python",
   "name": "python3"
  },
  "language_info": {
   "codemirror_mode": {
    "name": "ipython",
    "version": 3
   },
   "file_extension": ".py",
   "mimetype": "text/x-python",
   "name": "python",
   "nbconvert_exporter": "python",
   "pygments_lexer": "ipython3",
   "version": "3.7.5"
  }
 },
 "nbformat": 4,
 "nbformat_minor": 2
}
